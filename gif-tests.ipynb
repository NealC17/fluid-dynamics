{
 "cells": [
  {
   "cell_type": "code",
   "execution_count": 2,
   "id": "f6a08a2e-ecb5-46e2-a947-873849c9b372",
   "metadata": {},
   "outputs": [],
   "source": [
    "import numpy as np \n",
    "import pandas as pd \n",
    "from PIL import Image\n",
    "import matplotlib.pyplot as plt\n",
    "import imageio\n",
    "from render import Render"
   ]
  },
  {
   "cell_type": "code",
   "execution_count": 3,
   "id": "9f406ce6-e038-4397-9bc7-8e1de374ea26",
   "metadata": {},
   "outputs": [],
   "source": [
    "shape = (256, 256)\n",
    "frames = []\n",
    "img = np.zeros(shape)\n",
    "curve = []\n",
    "\n",
    "r = 64\n",
    "x, y = 128, 128\n",
    "f = lambda t: (x - r * np.cos(t), y - r * np.sin(t))\n",
    "\n",
    "\n",
    "name = 't1.gif'"
   ]
  },
  {
   "cell_type": "code",
   "execution_count": 4,
   "id": "cf3abf6e-8320-46bf-b27c-1b1477525270",
   "metadata": {},
   "outputs": [],
   "source": [
    "for i in range(0, 360):\n",
    "    pt = (f(i * np.pi/180))\n",
    "    img[int(pt[1])][int(pt[0])] = 255\n",
    "    frames.append(Image.fromarray(img))\n",
    "\n",
    "Render(frames, 't2.gif')\n"
   ]
  },
  {
   "cell_type": "code",
   "execution_count": null,
   "id": "4344874a-fd49-4b4f-8acb-ef2803cc23a9",
   "metadata": {},
   "outputs": [],
   "source": []
  },
  {
   "cell_type": "code",
   "execution_count": null,
   "id": "a776480f-7e77-4695-85fc-b0107c577c0d",
   "metadata": {},
   "outputs": [],
   "source": []
  }
 ],
 "metadata": {
  "kernelspec": {
   "display_name": "Python 3 (ipykernel)",
   "language": "python",
   "name": "python3"
  },
  "language_info": {
   "codemirror_mode": {
    "name": "ipython",
    "version": 3
   },
   "file_extension": ".py",
   "mimetype": "text/x-python",
   "name": "python",
   "nbconvert_exporter": "python",
   "pygments_lexer": "ipython3",
   "version": "3.12.2"
  }
 },
 "nbformat": 4,
 "nbformat_minor": 5
}
